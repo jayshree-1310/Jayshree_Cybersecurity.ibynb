{
  "nbformat": 4,
  "nbformat_minor": 0,
  "metadata": {
    "colab": {
      "name": "Jayshree Cybersecurity.ibynb",
      "provenance": [],
      "collapsed_sections": []
    },
    "kernelspec": {
      "name": "python3",
      "display_name": "Python 3"
    },
    "language_info": {
      "name": "python"
    }
  },
  "cells": [
    {
      "cell_type": "code",
      "metadata": {
        "colab": {
          "base_uri": "https://localhost:8080/"
        },
        "id": "rDmn_0Kf2-EI",
        "outputId": "b5448ea4-3742-4e69-cf27-103e05b114c6"
      },
      "source": [
        "import requests\n",
        "from datetime import datetime\n",
        "\n",
        "api_key= \"15fd9b5b6f56580da9cdeadccdc2d309\"\n",
        "location = input(\"Enter city name: \")\n",
        "\n",
        "complete_api_link = \"https://api.openweathermap.org/data/2.5/weather?q=\"+location+\"&appid=\"+api_key\n",
        "api_link = requests.get(complete_api_link)\n",
        "api_data = api_link.json()\n",
        "\n",
        "temp_city = ((api_data['main']['temp']) - 273.15)\n",
        "weather_desc = api_data['weather'][0]['description']\n",
        "hmdt = api_data['main']['humidity']\n",
        "wind_spd = api_data['wind']['speed']\n",
        "date_time = datetime.now().strftime(\"%d %b %Y | %I:%M:%S %p\")\n",
        "\n",
        "print(\"-------------------------------------------------------------------------\")\n",
        "print(\"Weather stats for - {} || {}\".format(location.upper(), date_time))\n",
        "print(\"-------------------------------------------------------------------------\")\n",
        "\n",
        "print(\"Current temperature is: {:.2f} deg C\".format(temp_city))\n",
        "print(\"Current weather desc :\",weather_desc)\n",
        "print(\"Current Humidity     :\",hmdt, '%')\n",
        "print(\"Current wind speed   :\",wind_spd ,'kmph')"
      ],
      "execution_count": 1,
      "outputs": [
        {
          "output_type": "stream",
          "text": [
            "Enter city name: Mumbai\n",
            "-------------------------------------------------------------------------\n",
            "Weather stats for - MUMBAI || 23 Jun 2021 | 12:35:18 PM\n",
            "-------------------------------------------------------------------------\n",
            "Current temperature is: 30.99 deg C\n",
            "Current weather desc : haze\n",
            "Current Humidity     : 74 %\n",
            "Current wind speed   : 4.12 kmph\n"
          ],
          "name": "stdout"
        }
      ]
    }
  ]
}